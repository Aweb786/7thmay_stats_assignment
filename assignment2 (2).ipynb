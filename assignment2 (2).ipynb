{
 "cells": [
  {
   "cell_type": "markdown",
   "id": "b4543d80-7c37-4e5a-87b9-e50d764c48bc",
   "metadata": {},
   "source": [
    "1.ans--> three measures of central tendency are\n",
    ".mean\n",
    ".median\n",
    ".mode"
   ]
  },
  {
   "cell_type": "markdown",
   "id": "cade0ebf-84aa-4ad1-975a-d45636c16bab",
   "metadata": {},
   "source": [
    "2.ans-->\n",
    "\n",
    "(i) Mean:\n",
    "\n",
    "Definition: The mean is the sum of all values in a dataset divided by the total number of values.\n",
    " Calculation: Mean = (Sum of all values) / (Total number of values)\n",
    " Sensitivity to Outliers: The mean is sensitive to outliers, meaning that extreme values can significantly    impact its value.\n",
    " Use: The mean is often used when you want to find the \"average\" value of a dataset. It's commonly used in  contexts like calculating average scores, incomes, or temperatures.\n",
    " \n",
    " (ii) mode:\n",
    "\n",
    "Definition: The mode is the value that appears most frequently in a dataset.\n",
    "Calculation: The mode is determined by identifying the value with the highest frequency.\n",
    "Sensitivity to Outliers: The mode is not particularly sensitive to outliers, as it is determined by the most common value(s) regardless of their magnitude.\n",
    "Use: The mode is used when you want to identify the most common or frequently occurring value in a dataset. It's particularly useful for categorical or nominal data.\n",
    "\n",
    "(iii) median:\n",
    "\n",
    "Definition: The median is the middle value in a dataset when the values are arranged in ascending or descending order.\n",
    "Calculation for Odd Number of Values: Median = Middle value\n",
    "Calculation for Even Number of Values: Median = (Sum of two middle values) / 2\n",
    "Sensitivity to Outliers: The median is less affected by outliers compared to the mean. It provides a better representation of the \"typical\" value when outliers are present.\n",
    "Use: The median is useful when you want to find a value that separates the dataset into two equal halves. It's often used in situations where extreme values can distort the mean.\n",
    "\n",
    " "
   ]
  },
  {
   "cell_type": "code",
   "execution_count": 6,
   "id": "2694cb06-ce21-47a0-aa2c-fc541263ee7b",
   "metadata": {},
   "outputs": [],
   "source": [
    "# 3.ans-->\n",
    "import numpy as np\n",
    "\n",
    "li=[178,177,176,177,178.2,178,175,179,180,175,178.9,176.2,177,172.5,178,176.5]\n",
    "\n",
    "\"\"\"1.mean=177.01875\n",
    "2.median=177.0\n",
    "3.mode=177\n",
    "\"\"\"\n",
    "\n",
    "\n"
   ]
  },
  {
   "cell_type": "code",
   "execution_count": 7,
   "id": "572a8b1b-adc6-4058-b3bf-1748e89dd45e",
   "metadata": {},
   "outputs": [
    {
     "data": {
      "text/plain": [
       "177.01875"
      ]
     },
     "execution_count": 7,
     "metadata": {},
     "output_type": "execute_result"
    }
   ],
   "source": [
    "np.mean(li)"
   ]
  },
  {
   "cell_type": "code",
   "execution_count": 8,
   "id": "73667479-e9f0-4860-8761-7fbb4c3bf2c6",
   "metadata": {},
   "outputs": [
    {
     "data": {
      "text/plain": [
       "177.0"
      ]
     },
     "execution_count": 8,
     "metadata": {},
     "output_type": "execute_result"
    }
   ],
   "source": [
    "np.median(li)"
   ]
  },
  {
   "cell_type": "code",
   "execution_count": 11,
   "id": "f456703c-b412-4b3c-8cc0-271108910883",
   "metadata": {},
   "outputs": [
    {
     "name": "stderr",
     "output_type": "stream",
     "text": [
      "/tmp/ipykernel_214/4104466247.py:2: FutureWarning: Unlike other reduction functions (e.g. `skew`, `kurtosis`), the default behavior of `mode` typically preserves the axis it acts along. In SciPy 1.11.0, this behavior will change: the default value of `keepdims` will become False, the `axis` over which the statistic is taken will be eliminated, and the value None will no longer be accepted. Set `keepdims` to True or False to avoid this warning.\n",
      "  stats.mode(li)\n"
     ]
    },
    {
     "data": {
      "text/plain": [
       "ModeResult(mode=array([177.]), count=array([3]))"
      ]
     },
     "execution_count": 11,
     "metadata": {},
     "output_type": "execute_result"
    }
   ],
   "source": [
    "from scipy import stats \n",
    "stats.mode(li)"
   ]
  },
  {
   "cell_type": "code",
   "execution_count": 12,
   "id": "759a3fc0-5c29-45ed-aa0e-93748adfdb60",
   "metadata": {},
   "outputs": [
    {
     "data": {
      "text/plain": [
       "1.7885814036548633"
      ]
     },
     "execution_count": 12,
     "metadata": {},
     "output_type": "execute_result"
    }
   ],
   "source": [
    "# 4.ans-->\n",
    "li= [178,177,176,177,178.2,178,175,179,180,175,178.9,176.2,177,172.5,178,176.5]\n",
    "import numpy as np\n",
    "np.std(li)\n",
    "\n",
    "\n"
   ]
  },
  {
   "cell_type": "markdown",
   "id": "fb66a8b7-e1f4-4603-983c-ac2f5ce4a367",
   "metadata": {},
   "source": [
    "# 5. ans-->\n",
    "Measures of dispersion, such as range, variance, and standard deviation, are used to describe how spread out or dispersed the values in a dataset are. They provide insight into the variability or consistency of the data points. Let's look at each measure and provide an example:\n",
    "\n",
    "(i)Range:\n",
    "\n",
    "The range is the simplest measure of dispersion and represents the difference between the maximum and minimum values in a dataset.\n",
    "Calculation: Range = Maximum value - Minimum value\n",
    "Example: Consider a dataset of exam scores: [65, 70, 75, 80, 90]. The range would be 90 - 65 = 25. The range gives a basic idea of how spread out the scores are but doesn't take into account the distribution of values between the minimum and maximum.\n",
    "\n",
    "(ii)Variance:\n",
    "\n",
    "Variance measures the average squared deviation of each data point from the mean of the dataset. It provides a more comprehensive measure of spread by considering the distances of all data points from the mean.\n",
    "Calculation: Variance = (Sum of squared deviations from the mean) / (Number of data points)\n",
    "Example: Let's use the same exam scores: [65, 70, 75, 80, 90]. First, calculate the mean (sum of scores / number of scores = (65 + 70 + 75 + 80 + 90) / 5 = 76). Then, calculate the squared deviations from the mean: [(65 - 76)^2, (70 - 76)^2, (75 - 76)^2, (80 - 76)^2, (90 - 76)^2]. The variance would be the average of these squared deviations.\n",
    "(iii) Standard Deviation:\n",
    "\n",
    "The standard deviation is the square root of the variance. It measures the average deviation from the mean in the original units of the data.\n",
    "Calculation: Standard Deviation = Square Root of Variance\n",
    "Example: Continuing with the exam scores, after calculating the variance, take the square root of the variance to get the standard deviation. The standard deviation provides a measure of how much individual scores deviate from the mean, in the same units as the original scores.\n",
    "\n",
    "\n"
   ]
  },
  {
   "cell_type": "markdown",
   "id": "3ee5ebd4-0590-441a-bd84-819c08277e05",
   "metadata": {},
   "source": [
    "Q6 ans-->\n",
    "A Venn diagram is a visual representation used to show the relationships between different sets or groups of items. It consists of overlapping circles (or other shapes) that represent these sets, and the intersections of the circles show the elements that belong to multiple sets. Venn diagrams are commonly used to illustrate the similarities and differences between various groups or concepts.\n",
    "\n",
    "In a basic two-set Venn diagram:\n",
    "\n",
    "Each circle represents a separate set.\n",
    "The overlap between circles represents the elements that belong to both sets.\n",
    "The portions of the circles that do not overlap represent the elements unique to each set.\n"
   ]
  },
  {
   "cell_type": "code",
   "execution_count": null,
   "id": "a0608a91-8303-4092-9e8e-7b36e0330c5c",
   "metadata": {},
   "outputs": [],
   "source": [
    "Q7 ans--> A = (2,3,4,5,6,7) & B = (0,2,6,8,10)\n",
    "here (i) ) A ∩ B = {2, 6}\n",
    "     (ii) A ∪ B = {0, 2, 3, 4, 5, 6, 7, 8, 10}\n"
   ]
  },
  {
   "cell_type": "markdown",
   "id": "0e2d8b75-c0a3-45ad-93b8-2a3d0ace61a6",
   "metadata": {},
   "source": [
    "Q8 ans--> \n",
    "Skewness is a statistical measure that describes the asymmetry or lack of symmetry in the distribution of data values in a dataset. In other words, it indicates whether the data is skewed (lopsided) to the left or right in comparison to a symmetrical distribution.\n",
    "\n",
    "There are three main types of skewness:\n",
    "\n",
    "(i)Positive Skewness (Right Skewness):\n",
    "Positive skewness occurs when the tail of the distribution is stretched toward the right side, indicating that there are more extreme values on the right side of the distribution. The mean is typically pulled toward the right by the presence of these outliers.\n",
    "\n",
    "(ii)Negative Skewness (Left Skewness):\n",
    "Negative skewness occurs when the tail of the distribution is stretched toward the left side, indicating that there are more extreme values on the left side of the distribution. The mean is typically pulled toward the left by the presence of these outliers.\n",
    "\n",
    "(iii)No Skewness (Symmetrical Distribution):\n",
    "In a symmetrical distribution, the data values are evenly distributed around the mean, and there is no apparent skewness in either direction.\n"
   ]
  },
  {
   "cell_type": "markdown",
   "id": "d0d2a339-efc2-4431-bff5-42a8229e871f",
   "metadata": {},
   "source": [
    "Q9 ans-->\n",
    "If a dataset is right-skewed, it means that the tail of the distribution is stretched toward the right side, indicating the presence of more extreme values on the right side of the distribution. In this case:\n",
    "\n",
    "Mean: The mean is sensitive to extreme values (outliers). Since right-skewed data has more extreme values on the right side, these larger values will pull the mean in that direction.\n",
    "\n",
    "Median: The median is the middle value in a dataset when arranged in ascending or descending order. In a right-skewed distribution, the tail is stretched toward the right, meaning that there are relatively fewer values on the right side of the median compared to the left side. This results in the median being pulled towards the left.\n",
    "In summary:\n",
    "\n",
    "For a right-skewed distribution, the mean is typically greater than the median.\n",
    "The median is usually closer to the left side of the distribution due to the presence of the skewed tail on the right.\n",
    "\n"
   ]
  },
  {
   "cell_type": "markdown",
   "id": "8d731e32-8663-424b-a87e-c879ccb2de42",
   "metadata": {},
   "source": [
    "Q10. ans-->\n",
    "Covariance and correlation are both measures used in statistics to describe the relationship between two variables, but they capture different aspects of this relationship and are scaled differently.\n",
    "\n",
    "Covariance:\n",
    "Covariance measures the degree to which two variables change together. In other words, it indicates whether an increase in one variable is associated with an increase or decrease in the other variable. A positive covariance suggests a positive relationship (both variables tend to increase or decrease together), while a negative covariance suggests an inverse relationship (one variable tends to increase as the other decreases).\n",
    "\n",
    "However, the magnitude of covariance is not easily interpretable on its own because it depends on the units of the variables being measured. This makes it challenging to compare covariances across different datasets.\n",
    "\n",
    "Correlation:\n",
    "Correlation, on the other hand, standardizes the covariance by dividing it by the product of the standard deviations of the two variables. This results in a value between -1 and 1, known as the correlation coefficient, which quantifies the strength and direction of the linear relationship between two variables.\n",
    "\n",
    "A correlation coefficient of +1 indicates a perfect positive linear relationship.\n",
    "A correlation coefficient of -1 indicates a perfect negative linear relationship.\n",
    "A correlation coefficient close to 0 indicates a weak or no linear relationship.\n",
    "Correlation coefficients provide a clearer indication of the strength and direction of the relationship between two variables compared to raw covariance. Correlation is also unitless, making it easier to compare relationships across different datasets.\n",
    "\n",
    "\n",
    "\n",
    "\n",
    "\n",
    "\n",
    "\n",
    "\n"
   ]
  },
  {
   "cell_type": "markdown",
   "id": "45bd7d9d-584b-499d-968b-012b0c87b8fb",
   "metadata": {},
   "source": [
    "Q11 ans-->The formula for calculating the sample mean (average) of a dataset is:\n",
    "\n",
    "Sample Mean = (Sum of all values in the dataset) / (Number of values in the dataset)\n",
    "\n",
    "Mathematically, this can be represented as:\n",
    "\n",
    "Sample Mean = (x₁ + x₂ + x₃ + ... + xₙ) / n\n",
    "\n",
    "Where:\n",
    "\n",
    "x₁, x₂, x₃, ..., xₙ are the individual values in the dataset.\n",
    "n is the number of values in the dataset.\n",
    "Let's go through an example calculation:\n",
    "\n",
    "Suppose we have the following dataset of exam scores: [75, 80, 85, 90, 95]\n",
    "\n",
    "To calculate the sample mean:\n",
    "\n",
    "Sample Mean = (75 + 80 + 85 + 90 + 95) / 5\n",
    "= 425 / 5\n",
    "= 85\n",
    "\n",
    "So, the sample mean of the exam scores is 85. This means that on average, the students scored 85 on the exam.\n",
    "\n",
    "\n",
    "\n",
    "\n",
    "\n"
   ]
  },
  {
   "cell_type": "markdown",
   "id": "74522837-b4fd-4b83-9374-c60e0811a10d",
   "metadata": {},
   "source": [
    " Q12 ans-->In a normal distribution (also known as a Gaussian distribution or bell curve), the three measures of central tendency—mean, median, and mode—tend to be very close to each other and are approximately equal. This is one of the characteristics that define a normal distribution.\n",
    "\n",
    "Here's how these measures relate to each other in a normal distribution:\n",
    "\n",
    "Mean: In a normal distribution, the mean is located at the center of the distribution, and the curve is symmetric around it. The mean is the arithmetic average of all data points, and it is also the balance point of the distribution.\n",
    "\n",
    "Median: The median is also located at the center of a normal distribution. Since the distribution is symmetric, the median coincides with the mean. In other words, the median is the value that divides the distribution into two halves of equal area.\n",
    "\n",
    "Mode: In a normal distribution, every value occurs with roughly the same frequency. As a result, there isn't a single mode—the distribution is considered to be multimodal, but all modes are located at the same value, which is the same as the mean and median.\n",
    "\n",
    "The close alignment of these measures in a normal distribution is a key reason why the normal distribution is often used as a model for many real-world phenomena. It simplifies calculations and predictions, and the symmetry allows for straightforward interpretations of probabilities and percentiles. However, it's important to note that in real data, deviations from perfect normality can occur, leading to slight differences between the mean, median, and mode.\n",
    "\n",
    "\n",
    "\n",
    "\n",
    "\n"
   ]
  },
  {
   "cell_type": "markdown",
   "id": "93a35858-34bd-4d9c-a4f8-6c485878c5e0",
   "metadata": {},
   "source": [
    "Q13 ans-->\n",
    "Covariance and correlation are both measures used to describe the relationship between two variables, but they capture different aspects of this relationship and are scaled differently. Here's a breakdown of the key differences between covariance and correlation:\n",
    "\n",
    "(i) Covariance:\n",
    "\n",
    "Formula: Covariance measures the degree to which two variables change together. The formula for covariance between two variables X and Y is:\n",
    "Cov(X, Y) = Σ((Xᵢ - X̄) * (Yᵢ - Ȳ)) / (n - 1)\n",
    "where Xᵢ and Yᵢ are individual data points, X̄ and Ȳ are the means of X and Y respectively, and n is the number of data points.\n",
    "\n",
    "(ii)Correlation:\n",
    "\n",
    "Formula: Correlation standardizes the covariance by dividing it by the product of the standard deviations of the two variables. The formula for the correlation coefficient between X and Y is:\n",
    "Cor(X, Y) = Cov(X, Y) / (σₓ * σᵧ)\n",
    "where σₓ and σᵧ are the standard deviations of X and Y respectively.\n"
   ]
  },
  {
   "cell_type": "markdown",
   "id": "528255a8-4308-499c-8126-4e4f397edc86",
   "metadata": {},
   "source": [
    "Q14 ans-->\n",
    "Outliers are data points that significantly differ from the rest of the data in a dataset. They can have a notable impact on both measures of central tendency (mean, median, mode) and measures of dispersion (range, variance, standard deviation).\n",
    "Consider the following dataset representing exam scores:\n",
    "\n",
    "[72, 78, 81, 85, 90, 92, 95, 100, 102]\n",
    "\n",
    "Outliers are data points that significantly differ from the rest of the data in a dataset. They can have a notable impact on both measures of central tendency (mean, median, mode) and measures of dispersion (range, variance, standard deviation). Let's explore how outliers affect these measures with an example:\n",
    "\n",
    "Consider the following dataset representing exam scores:\n",
    "\n",
    "[72, 78, 81, 85, 90, 92, 95, 100, 102]\n",
    "\n",
    "Measures of Central Tendency:\n",
    "\n",
    "Mean: Outliers can strongly influence the mean because it's calculated by summing up all values and then dividing by the total number of values. In this example, the outlier value 102 is significantly larger than the rest of the scores, so including it in the calculation would result in a much higher mean.\n",
    "\n",
    "Median: The median is less sensitive to outliers. In this dataset, the median would be 90 because it's the middle value when the scores are arranged in ascending order. The outlier value 102 doesn't significantly impact the median.\n",
    "\n",
    "Mode: The mode is not heavily influenced by outliers, especially in this case where there's only one occurrence of 102. The mode remains unchanged.\n",
    " \n",
    " In summary, outliers can skew measures of central tendency towards their direction, especially affecting the mean. They can also increase measures of dispersion, making ranges, variances, and standard deviations larger than they might be without outliers. It's important to consider the nature of the data and the presence of outliers when interpreting these statistical measures, as outliers can distort the overall understanding of the distribution.\n"
   ]
  }
 ],
 "metadata": {
  "kernelspec": {
   "display_name": "Python 3 (ipykernel)",
   "language": "python",
   "name": "python3"
  },
  "language_info": {
   "codemirror_mode": {
    "name": "ipython",
    "version": 3
   },
   "file_extension": ".py",
   "mimetype": "text/x-python",
   "name": "python",
   "nbconvert_exporter": "python",
   "pygments_lexer": "ipython3",
   "version": "3.10.8"
  }
 },
 "nbformat": 4,
 "nbformat_minor": 5
}
